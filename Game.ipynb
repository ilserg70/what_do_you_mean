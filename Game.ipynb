{
 "cells": [
  {
   "cell_type": "markdown",
   "metadata": {},
   "source": [
    "# PyGame\n",
    "https://inventwithpython.com/pygame/"
   ]
  },
  {
   "cell_type": "code",
   "execution_count": null,
   "metadata": {},
   "outputs": [],
   "source": [
    "import pygame"
   ]
  },
  {
   "cell_type": "code",
   "execution_count": null,
   "metadata": {},
   "outputs": [],
   "source": [
    "c = pygame.Color(255, 0, 0, 128)\n",
    "c"
   ]
  },
  {
   "cell_type": "code",
   "execution_count": null,
   "metadata": {},
   "outputs": [],
   "source": [
    "r = pygame.Rect(10, 20, 200, 300)\n",
    "print(r)\n",
    "print(r.right)\n",
    "print(r.left)\n",
    "print(r.top)\n",
    "print(r.bottom)\n",
    "print(r.centerx)\n",
    "print(r.centery)\n",
    "print(r.width)\n",
    "print(r.height)\n",
    "print(r.size)\n",
    "print(r.topleft)\n",
    "print(r.topright)\n",
    "print(r.bottomleft)\n",
    "print(r.bottomright)\n",
    "print(r.midleft)\n",
    "print(r.midright)\n",
    "print(r.midtop)\n",
    "print(r.midbottom)"
   ]
  }
 ],
 "metadata": {
  "kernelspec": {
   "display_name": "Python 3",
   "language": "python",
   "name": "python3"
  },
  "language_info": {
   "codemirror_mode": {
    "name": "ipython",
    "version": 3
   },
   "file_extension": ".py",
   "mimetype": "text/x-python",
   "name": "python",
   "nbconvert_exporter": "python",
   "pygments_lexer": "ipython3",
   "version": "3.7.0"
  }
 },
 "nbformat": 4,
 "nbformat_minor": 2
}
