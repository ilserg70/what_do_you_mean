{
 "cells": [
  {
   "cell_type": "markdown",
   "metadata": {},
   "source": [
    "### Calculate number of unique letters"
   ]
  },
  {
   "cell_type": "code",
   "execution_count": null,
   "metadata": {},
   "outputs": [],
   "source": [
    "w1 = \"pneumonoultramicroscopicsilicovolcanoconiosis\"\n",
    "s1 = list(set([c for c in w1]))\n",
    "print(\"word:\", w1)\n",
    "print(\"number of letters:\", len(w1))\n",
    "print(s1)\n",
    "print(\"number of unique letters:\", len(s1))"
   ]
  },
  {
   "cell_type": "markdown",
   "metadata": {},
   "source": [
    "### Create histogram of letters"
   ]
  },
  {
   "cell_type": "code",
   "execution_count": null,
   "metadata": {},
   "outputs": [],
   "source": [
    "h1 = {}\n",
    "for c in w1:\n",
    "    if c in h1:\n",
    "        h1[c] += 1\n",
    "    else:\n",
    "        h1[c] = 1\n",
    "print(h1)"
   ]
  },
  {
   "cell_type": "markdown",
   "metadata": {},
   "source": [
    "### Rotate an array of n elements to the right by k steps.\n",
    "For example, with n = 7 and k = 3, the array [1,2,3,4,5,6,7] is rotated to [5,6,7,1,2,3,4]. "
   ]
  },
  {
   "cell_type": "markdown",
   "metadata": {},
   "source": [
    "[0] -> [3]\n",
    "[1] -> [4]\n",
    "...\n",
    "[4] -> [0]\n",
    "...\n",
    "[6] -> [2]\n",
    "\n",
    "[i] -> [(i + k) % n]\n",
    "\n",
    "[0]->[3]->[6]->[2]->[5]->[1]->[4]->[0] "
   ]
  },
  {
   "cell_type": "code",
   "execution_count": null,
   "metadata": {},
   "outputs": [],
   "source": [
    "def swap(arr, i, j):\n",
    "    t = arr[i]\n",
    "    arr[i] = arr[j]\n",
    "    arr[j] = t\n",
    "def one_pass(arr, i, k):\n",
    "    j = (i + k) % len(arr)\n",
    "    while j != i:\n",
    "        swap(arr, i, j)\n",
    "        j = (j + k) % len(arr)\n",
    "def max_common_div(a, b):\n",
    "    if a < b:\n",
    "        t = a\n",
    "        a = b\n",
    "        b = t\n",
    "    if a/b % 1 == 0:\n",
    "        return b\n",
    "    return max_common_div(b, a % b)\n",
    "def rotate(arr, k):\n",
    "    if k > 0:\n",
    "        for i in range(0, max_common_div(len(arr), k)):\n",
    "                one_pass(arr, i, k)"
   ]
  },
  {
   "cell_type": "code",
   "execution_count": null,
   "metadata": {},
   "outputs": [],
   "source": [
    "a1 =  [1,2,3,4,5,6,7,8,9]\n",
    "print(a1)\n",
    "k = 6\n",
    "rotate(a1, k)\n",
    "print(a1)"
   ]
  },
  {
   "cell_type": "markdown",
   "metadata": {},
   "source": [
    "### Reverse Words in a String\n",
    "Given an input string, reverse the string word by word. A word is defined as a sequence of non-space characters.\n",
    "For example,\n",
    "Given s = \"the sky is blue\",\n",
    "return \"blue is sky the\".\n",
    "Could you do it in-place without allocating extra space?"
   ]
  },
  {
   "cell_type": "code",
   "execution_count": 10,
   "metadata": {},
   "outputs": [],
   "source": [
    "def rev_str_by_words(s):\n",
    "    arr = s.split(\" \")\n",
    "    n = len(arr)\n",
    "    for i in range(int(n/2)):\n",
    "        t = arr[i]\n",
    "        arr[i] = arr[n-1-i]\n",
    "        arr[n-1-i] = t\n",
    "    return \" \".join(arr)"
   ]
  },
  {
   "cell_type": "code",
   "execution_count": 11,
   "metadata": {},
   "outputs": [
    {
     "name": "stdout",
     "output_type": "stream",
     "text": [
      "the sky is blue  =>  blue is sky the\n"
     ]
    }
   ],
   "source": [
    "s1 = \"the sky is blue\"\n",
    "s2 = rev_str_by_words(s1)\n",
    "print(s1,\" => \", s2)"
   ]
  },
  {
   "cell_type": "markdown",
   "metadata": {},
   "source": [
    "\"the sky is blue\" => \"eht yks si eulb\""
   ]
  },
  {
   "cell_type": "code",
   "execution_count": 7,
   "metadata": {},
   "outputs": [],
   "source": [
    "def rev_word(arr, i, j):\n",
    "    while i < j:\n",
    "        t = arr[i]\n",
    "        arr[i] = arr[j]\n",
    "        arr[j] = t\n",
    "        i += 1\n",
    "        j -= 1\n",
    "def rev_str_by_chars(s):\n",
    "    arr = list(s)\n",
    "    n = len(arr)\n",
    "    i = 0\n",
    "    for j in range(n):\n",
    "        if arr[j] == \" \":\n",
    "            rev_word(arr, i, j-1)\n",
    "            i = j + 1\n",
    "    rev_word(arr, i, n-1)\n",
    "    return \"\".join(arr)"
   ]
  },
  {
   "cell_type": "code",
   "execution_count": 9,
   "metadata": {},
   "outputs": [
    {
     "name": "stdout",
     "output_type": "stream",
     "text": [
      "the sky is blue  =>  eht yks si eulb\n"
     ]
    }
   ],
   "source": [
    "s1 = \"the sky is blue\"\n",
    "s2 = rev_str_by_chars(s1)\n",
    "print(s1,\" => \", s2)"
   ]
  },
  {
   "cell_type": "markdown",
   "metadata": {},
   "source": [
    "### push(), pop()"
   ]
  },
  {
   "cell_type": "code",
   "execution_count": 22,
   "metadata": {},
   "outputs": [
    {
     "name": "stdout",
     "output_type": "stream",
     "text": [
      "['a', 'b', 'c']\n",
      "c\n",
      "['a', 'b']\n"
     ]
    }
   ],
   "source": [
    "a2 = []\n",
    "a2.append('a')\n",
    "a2.append('b')\n",
    "a2.append('c')\n",
    "print(a2)\n",
    "print(a2.pop())\n",
    "print(a2)"
   ]
  },
  {
   "cell_type": "markdown",
   "metadata": {},
   "source": [
    "### Evaluate Reverse Polish Notation\n",
    "Evaluate the value of an arithmetic expression in Reverse Polish Notation. Valid operators are +, -, *, /. Each operand may be an integer or another expression. For example:\n",
    "[\"2\", \"1\", \"+\", \"3\", \"*\"] -> ((2 + 1) * 3) -> 9"
   ]
  },
  {
   "cell_type": "code",
   "execution_count": 49,
   "metadata": {},
   "outputs": [],
   "source": [
    "import re\n",
    "def exal_polish(expr):\n",
    "    arr = expr.split()\n",
    "    stack = []\n",
    "    for w in arr:\n",
    "        if re.match(\"^\\d+(\\.\\d*)?$\", w):\n",
    "            stack.append(float(w))\n",
    "        elif re.match(\"^[*/+-]$\", w):\n",
    "            b = stack.pop()\n",
    "            a = stack.pop()\n",
    "            if w == \"+\":\n",
    "                stack.append(a + b)\n",
    "            elif w == \"-\":\n",
    "                stack.append(a - b)\n",
    "            elif w == \"*\":\n",
    "                stack.append(a * b)\n",
    "            elif w == \"/\":\n",
    "                stack.append(a / b)\n",
    "    return stack.pop()"
   ]
  },
  {
   "cell_type": "code",
   "execution_count": 50,
   "metadata": {},
   "outputs": [
    {
     "name": "stdout",
     "output_type": "stream",
     "text": [
      "2 1 + 3 *  =  9.0\n",
      "4 10 5 / +  =  6.0\n",
      "1 3.4 2.67 * -  =  -8.078\n"
     ]
    }
   ],
   "source": [
    "s = \"2 1 + 3 *\"\n",
    "print(s, \" = \", exal_polish(s))\n",
    "s = \"4 10 5 / +\"\n",
    "print(s, \" = \", exal_polish(s))\n",
    "s = \"1 3.4 2.67 * -\"\n",
    "print(s, \" = \", exal_polish(s))"
   ]
  },
  {
   "cell_type": "code",
   "execution_count": null,
   "metadata": {},
   "outputs": [],
   "source": []
  }
 ],
 "metadata": {
  "kernelspec": {
   "display_name": "Python 3",
   "language": "python",
   "name": "python3"
  },
  "language_info": {
   "codemirror_mode": {
    "name": "ipython",
    "version": 3
   },
   "file_extension": ".py",
   "mimetype": "text/x-python",
   "name": "python",
   "nbconvert_exporter": "python",
   "pygments_lexer": "ipython3",
   "version": "3.7.0"
  }
 },
 "nbformat": 4,
 "nbformat_minor": 2
}
